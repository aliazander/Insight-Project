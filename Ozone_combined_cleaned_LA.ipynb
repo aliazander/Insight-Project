{
 "cells": [
  {
   "cell_type": "markdown",
   "metadata": {},
   "source": [
    "Download individual csv files with ozone levels, temperature, barometric pressure, relative humidity, and wind speed from 2016-2018. Examine data, clean, fill in missing data, export condensed file for future work."
   ]
  },
  {
   "cell_type": "code",
   "execution_count": 43,
   "metadata": {},
   "outputs": [],
   "source": [
    "#import necessary packages\n",
    "import pandas as pd\n",
    "import numpy as np\n",
    "from datetime import date"
   ]
  },
  {
   "cell_type": "code",
   "execution_count": 44,
   "metadata": {},
   "outputs": [],
   "source": [
    "#all csv files were downloaded from: https://aqs.epa.gov/aqsweb/airdata/download_files.html#Raw\n",
    "\n",
    "ozone2016 = pd.read_csv('Ozone/hourly_44201_2016.csv', parse_dates=[['Date Local', 'Time Local']])\n",
    "ozone2017 = pd.read_csv('Ozone/hourly_44201_2017.csv', parse_dates=[['Date Local', 'Time Local']])\n",
    "ozone2018 = pd.read_csv('Ozone/hourly_44201_2018.csv', parse_dates=[['Date Local', 'Time Local']])"
   ]
  },
  {
   "cell_type": "code",
   "execution_count": 45,
   "metadata": {},
   "outputs": [],
   "source": [
    "temp2016 = pd.read_csv('Ozone/hourly_TEMP_2016.csv', parse_dates=[['Date Local', 'Time Local']])\n",
    "temp2017 = pd.read_csv('Ozone/hourly_TEMP_2017.csv', parse_dates=[['Date Local', 'Time Local']])\n",
    "temp2018 = pd.read_csv('Ozone/hourly_TEMP_2018.csv', parse_dates=[['Date Local', 'Time Local']])"
   ]
  },
  {
   "cell_type": "code",
   "execution_count": 46,
   "metadata": {},
   "outputs": [],
   "source": [
    "press2016 = pd.read_csv('Ozone/hourly_PRESS_2016.csv', parse_dates=[['Date Local', 'Time Local']])\n",
    "press2017 = pd.read_csv('Ozone/hourly_PRESS_2017.csv', parse_dates=[['Date Local', 'Time Local']])\n",
    "press2018 = pd.read_csv('Ozone/hourly_PRESS_2018.csv', parse_dates=[['Date Local', 'Time Local']])"
   ]
  },
  {
   "cell_type": "code",
   "execution_count": 47,
   "metadata": {},
   "outputs": [],
   "source": [
    "relhum2016 = pd.read_csv('Ozone/hourly_RH_DP_2016.csv', parse_dates=[['Date Local', 'Time Local']])\n",
    "relhum2017 = pd.read_csv('Ozone/hourly_RH_DP_2017.csv', parse_dates=[['Date Local', 'Time Local']])\n",
    "relhum2018 = pd.read_csv('Ozone/hourly_RH_DP_2018.csv', parse_dates=[['Date Local', 'Time Local']])"
   ]
  },
  {
   "cell_type": "code",
   "execution_count": 48,
   "metadata": {},
   "outputs": [],
   "source": [
    "wind2016 = pd.read_csv('Ozone/hourly_WIND_2016.csv', parse_dates=[['Date Local', 'Time Local']])\n",
    "wind2017 = pd.read_csv('Ozone/hourly_WIND_2017.csv', parse_dates=[['Date Local', 'Time Local']])\n",
    "wind2018 = pd.read_csv('Ozone/hourly_WIND_2018.csv', parse_dates=[['Date Local', 'Time Local']])"
   ]
  },
  {
   "cell_type": "code",
   "execution_count": 51,
   "metadata": {},
   "outputs": [
    {
     "data": {
      "text/html": [
       "<div>\n",
       "<style scoped>\n",
       "    .dataframe tbody tr th:only-of-type {\n",
       "        vertical-align: middle;\n",
       "    }\n",
       "\n",
       "    .dataframe tbody tr th {\n",
       "        vertical-align: top;\n",
       "    }\n",
       "\n",
       "    .dataframe thead th {\n",
       "        text-align: right;\n",
       "    }\n",
       "</style>\n",
       "<table border=\"1\" class=\"dataframe\">\n",
       "  <thead>\n",
       "    <tr style=\"text-align: right;\">\n",
       "      <th></th>\n",
       "      <th>Date Local_Time Local</th>\n",
       "      <th>State Code</th>\n",
       "      <th>County Code</th>\n",
       "      <th>Site Num</th>\n",
       "      <th>Parameter Code</th>\n",
       "      <th>POC</th>\n",
       "      <th>Latitude</th>\n",
       "      <th>Longitude</th>\n",
       "      <th>Datum</th>\n",
       "      <th>Parameter Name</th>\n",
       "      <th>...</th>\n",
       "      <th>Units of Measure</th>\n",
       "      <th>MDL</th>\n",
       "      <th>Uncertainty</th>\n",
       "      <th>Qualifier</th>\n",
       "      <th>Method Type</th>\n",
       "      <th>Method Code</th>\n",
       "      <th>Method Name</th>\n",
       "      <th>State Name</th>\n",
       "      <th>County Name</th>\n",
       "      <th>Date of Last Change</th>\n",
       "    </tr>\n",
       "  </thead>\n",
       "  <tbody>\n",
       "    <tr>\n",
       "      <td>0</td>\n",
       "      <td>2018-01-01 00:00:00</td>\n",
       "      <td>1</td>\n",
       "      <td>53</td>\n",
       "      <td>1000</td>\n",
       "      <td>61103</td>\n",
       "      <td>1</td>\n",
       "      <td>31.0921</td>\n",
       "      <td>-87.5435</td>\n",
       "      <td>NAD83</td>\n",
       "      <td>Wind Speed - Resultant</td>\n",
       "      <td>...</td>\n",
       "      <td>Knots</td>\n",
       "      <td>0.1</td>\n",
       "      <td>NaN</td>\n",
       "      <td>NaN</td>\n",
       "      <td>Non-FRM</td>\n",
       "      <td>67</td>\n",
       "      <td>Instrumental - RM Young Model 05103</td>\n",
       "      <td>Alabama</td>\n",
       "      <td>Escambia</td>\n",
       "      <td>2018-07-30</td>\n",
       "    </tr>\n",
       "    <tr>\n",
       "      <td>1</td>\n",
       "      <td>2018-01-01 01:00:00</td>\n",
       "      <td>1</td>\n",
       "      <td>53</td>\n",
       "      <td>1000</td>\n",
       "      <td>61103</td>\n",
       "      <td>1</td>\n",
       "      <td>31.0921</td>\n",
       "      <td>-87.5435</td>\n",
       "      <td>NAD83</td>\n",
       "      <td>Wind Speed - Resultant</td>\n",
       "      <td>...</td>\n",
       "      <td>Knots</td>\n",
       "      <td>0.1</td>\n",
       "      <td>NaN</td>\n",
       "      <td>NaN</td>\n",
       "      <td>Non-FRM</td>\n",
       "      <td>67</td>\n",
       "      <td>Instrumental - RM Young Model 05103</td>\n",
       "      <td>Alabama</td>\n",
       "      <td>Escambia</td>\n",
       "      <td>2018-07-30</td>\n",
       "    </tr>\n",
       "  </tbody>\n",
       "</table>\n",
       "<p>2 rows × 23 columns</p>\n",
       "</div>"
      ],
      "text/plain": [
       "  Date Local_Time Local  State Code  County Code  Site Num  Parameter Code  \\\n",
       "0   2018-01-01 00:00:00           1           53      1000           61103   \n",
       "1   2018-01-01 01:00:00           1           53      1000           61103   \n",
       "\n",
       "   POC  Latitude  Longitude  Datum          Parameter Name  ...  \\\n",
       "0    1   31.0921   -87.5435  NAD83  Wind Speed - Resultant  ...   \n",
       "1    1   31.0921   -87.5435  NAD83  Wind Speed - Resultant  ...   \n",
       "\n",
       "  Units of Measure  MDL  Uncertainty Qualifier  Method Type  Method Code  \\\n",
       "0            Knots  0.1          NaN       NaN      Non-FRM           67   \n",
       "1            Knots  0.1          NaN       NaN      Non-FRM           67   \n",
       "\n",
       "                           Method Name State Name  County Name  \\\n",
       "0  Instrumental - RM Young Model 05103    Alabama     Escambia   \n",
       "1  Instrumental - RM Young Model 05103    Alabama     Escambia   \n",
       "\n",
       "  Date of Last Change  \n",
       "0          2018-07-30  \n",
       "1          2018-07-30  \n",
       "\n",
       "[2 rows x 23 columns]"
      ]
     },
     "execution_count": 51,
     "metadata": {},
     "output_type": "execute_result"
    }
   ],
   "source": [
    "wind2018.head(2)"
   ]
  },
  {
   "cell_type": "code",
   "execution_count": 55,
   "metadata": {},
   "outputs": [
    {
     "data": {
      "text/plain": [
       "(17458, 23)"
      ]
     },
     "execution_count": 55,
     "metadata": {},
     "output_type": "execute_result"
    }
   ],
   "source": [
    "#filter out LA data from site number 1103 only\n",
    "\n",
    "def get_site(df):\n",
    "    return df[(df['County Name'] == 'Los Angeles') & (df['Site Num'] == 1103)]\n",
    "la_wind2016 = get_site(wind2016)\n",
    "la_wind2017 = get_site(wind2017)\n",
    "la_wind2018 = get_site(wind2018)\n",
    "la_wind2018.shape"
   ]
  },
  {
   "cell_type": "code",
   "execution_count": 56,
   "metadata": {},
   "outputs": [
    {
     "data": {
      "text/plain": [
       "(8731, 23)"
      ]
     },
     "execution_count": 56,
     "metadata": {},
     "output_type": "execute_result"
    }
   ],
   "source": [
    "la_press2016= get_site(press2016)\n",
    "la_press2017= get_site(press2017)\n",
    "la_press2018= get_site(press2018)\n",
    "la_press2018.shape"
   ]
  },
  {
   "cell_type": "code",
   "execution_count": 57,
   "metadata": {},
   "outputs": [
    {
     "data": {
      "text/plain": [
       "(8776, 23)"
      ]
     },
     "execution_count": 57,
     "metadata": {},
     "output_type": "execute_result"
    }
   ],
   "source": [
    "la_temp2016= get_site(temp2016)\n",
    "la_temp2017= get_site(temp2017)\n",
    "la_temp2018= get_site(temp2018)\n",
    "la_temp2016.shape"
   ]
  },
  {
   "cell_type": "code",
   "execution_count": 58,
   "metadata": {},
   "outputs": [
    {
     "data": {
      "text/plain": [
       "(8268, 23)"
      ]
     },
     "execution_count": 58,
     "metadata": {},
     "output_type": "execute_result"
    }
   ],
   "source": [
    "la_ozone2016= get_site(ozone2016)\n",
    "la_ozone2017= get_site(ozone2017)\n",
    "la_ozone2018= get_site(ozone2018)\n",
    "la_ozone2016.shape"
   ]
  },
  {
   "cell_type": "code",
   "execution_count": 59,
   "metadata": {},
   "outputs": [
    {
     "data": {
      "text/plain": [
       "(8776, 23)"
      ]
     },
     "execution_count": 59,
     "metadata": {},
     "output_type": "execute_result"
    }
   ],
   "source": [
    "la_relhum2016= get_site(relhum2016)\n",
    "la_relhum2017= get_site(relhum2017)\n",
    "la_relhum2018= get_site(relhum2018)\n",
    "la_relhum2016.shape"
   ]
  },
  {
   "cell_type": "code",
   "execution_count": 67,
   "metadata": {},
   "outputs": [],
   "source": [
    "#combine data from all three years\n",
    "ozone = pd.concat([la_ozone2016, la_ozone2017, la_ozone2018])\n",
    "temp = pd.concat([la_temp2016, la_temp2017, la_temp2018])\n",
    "wind = pd.concat([la_wind2016, la_wind2017, la_wind2018])\n",
    "press = pd.concat([la_press2016, la_press2017, la_press2018])\n",
    "relhum = pd.concat([la_relhum2016, la_relhum2017, la_relhum2018])"
   ]
  },
  {
   "cell_type": "code",
   "execution_count": 68,
   "metadata": {},
   "outputs": [
    {
     "name": "stdout",
     "output_type": "stream",
     "text": [
      "['Percent relative humidity']\n",
      "(26260, 23)\n",
      "(0, 23)\n",
      "26280\n"
     ]
    }
   ],
   "source": [
    "#some sites have dew point listed in the relative humidity file too\n",
    "#this site clearly doesn't have dew point listed, but just to be safe and keep consistent\n",
    "#code for analyzing future cities/monitoring sites\n",
    "print(relhum['Units of Measure'].unique())\n",
    "rh = relhum[relhum['Parameter Name'] == 'Relative Humidity ']\n",
    "dp = relhum[relhum['Parameter Name'] == 'Dew Point']\n",
    "print(rh.shape)\n",
    "print(dp.shape)\n",
    "#expected shape (+24 because of leap year having 24 extra hours)\n",
    "print(365*24*3)"
   ]
  },
  {
   "cell_type": "code",
   "execution_count": 69,
   "metadata": {},
   "outputs": [
    {
     "name": "stdout",
     "output_type": "stream",
     "text": [
      "['Wind Speed - Resultant' 'Wind Direction - Resultant']\n",
      "1517420    3.7\n",
      "1517421    2.9\n",
      "1517422    2.6\n",
      "1517423    3.3\n",
      "1517424    2.0\n",
      "Name: Sample Measurement, dtype: float64\n",
      "1524012    67.0\n",
      "1524013    60.0\n",
      "1524014    40.0\n",
      "1524015    27.0\n",
      "1524016    28.0\n",
      "Name: Sample Measurement, dtype: float64\n"
     ]
    }
   ],
   "source": [
    "#wind speed and direction both listed - separate out\n",
    "print(wind['Parameter Name'].unique())\n",
    "speed = wind[wind['Parameter Name'] == 'Wind Speed - Resultant']\n",
    "winddir = wind[wind['Parameter Name'] == 'Wind Direction - Resultant']\n",
    "print(speed['Sample Measurement'].head())\n",
    "print(winddir['Sample Measurement'].head())"
   ]
  },
  {
   "cell_type": "code",
   "execution_count": 70,
   "metadata": {},
   "outputs": [
    {
     "data": {
      "text/plain": [
       "array(['Barometric pressure'], dtype=object)"
      ]
     },
     "execution_count": 70,
     "metadata": {},
     "output_type": "execute_result"
    }
   ],
   "source": [
    "press['Parameter Name'].unique()"
   ]
  },
  {
   "cell_type": "code",
   "execution_count": 71,
   "metadata": {},
   "outputs": [],
   "source": [
    "#get hourly data from the first date in 2016 to the last date in 2018\n",
    "#this is the ideal dataset - use this to fill in data missing from other dataframes\n",
    "idx_hourly = pd.date_range(start = '2016-01-01 00:00:00', end = '2018-12-31 23:00:00', freq = 'H')"
   ]
  },
  {
   "cell_type": "code",
   "execution_count": null,
   "metadata": {},
   "outputs": [],
   "source": [
    "#rename column to 'Date', set 'Date' as index, then reindex, then forward fill \n",
    "#forward fill - use last data point to fill in missing data\n",
    "def fill_in(df):\n",
    "    return df.rename(columns = {'Date Local_Time Local':'Date'}).set_index('Date').reindex(idx_hourly, method='ffill')\n",
    "\n",
    "temp = fill_in(temp)\n",
    "ozone = fill_in(ozone)\n",
    "speed = fill_in(speed)\n",
    "winddir = fill_in(winddir)\n",
    "press = fill_in(press)\n",
    "rh = fill_in(rh)\n",
    "\n",
    "print(temp.shape)\n",
    "print(ozone.shape)\n",
    "print(speed.shape)\n",
    "print(winddir.shape)\n",
    "print(press.shape)\n",
    "print(rh.shape)"
   ]
  },
  {
   "cell_type": "code",
   "execution_count": 74,
   "metadata": {},
   "outputs": [
    {
     "data": {
      "text/html": [
       "<div>\n",
       "<style scoped>\n",
       "    .dataframe tbody tr th:only-of-type {\n",
       "        vertical-align: middle;\n",
       "    }\n",
       "\n",
       "    .dataframe tbody tr th {\n",
       "        vertical-align: top;\n",
       "    }\n",
       "\n",
       "    .dataframe thead th {\n",
       "        text-align: right;\n",
       "    }\n",
       "</style>\n",
       "<table border=\"1\" class=\"dataframe\">\n",
       "  <thead>\n",
       "    <tr style=\"text-align: right;\">\n",
       "      <th></th>\n",
       "      <th>Temp</th>\n",
       "      <th>Ozone</th>\n",
       "    </tr>\n",
       "  </thead>\n",
       "  <tbody>\n",
       "    <tr>\n",
       "      <td>2016-01-01 00:00:00</td>\n",
       "      <td>46.6</td>\n",
       "      <td>0.004</td>\n",
       "    </tr>\n",
       "    <tr>\n",
       "      <td>2016-01-01 01:00:00</td>\n",
       "      <td>45.7</td>\n",
       "      <td>0.003</td>\n",
       "    </tr>\n",
       "    <tr>\n",
       "      <td>2016-01-01 02:00:00</td>\n",
       "      <td>45.4</td>\n",
       "      <td>0.003</td>\n",
       "    </tr>\n",
       "    <tr>\n",
       "      <td>2016-01-01 03:00:00</td>\n",
       "      <td>44.7</td>\n",
       "      <td>0.003</td>\n",
       "    </tr>\n",
       "    <tr>\n",
       "      <td>2016-01-01 04:00:00</td>\n",
       "      <td>43.8</td>\n",
       "      <td>0.003</td>\n",
       "    </tr>\n",
       "  </tbody>\n",
       "</table>\n",
       "</div>"
      ],
      "text/plain": [
       "                     Temp  Ozone\n",
       "2016-01-01 00:00:00  46.6  0.004\n",
       "2016-01-01 01:00:00  45.7  0.003\n",
       "2016-01-01 02:00:00  45.4  0.003\n",
       "2016-01-01 03:00:00  44.7  0.003\n",
       "2016-01-01 04:00:00  43.8  0.003"
      ]
     },
     "execution_count": 74,
     "metadata": {},
     "output_type": "execute_result"
    }
   ],
   "source": [
    "#extract out sample measurement only now, then merge the dataframes and label the columns\n",
    "#do this for temp and ozone\n",
    "temp_combo = temp[['Sample Measurement']]\n",
    "ozone_combo = ozone[['Sample Measurement']]\n",
    "merge1 = pd.merge(temp_combo, ozone_combo, left_index = True, right_index = True, how = 'outer')\n",
    "merge1.columns = ['Temp', 'Ozone']\n",
    "merge1.head()"
   ]
  },
  {
   "cell_type": "code",
   "execution_count": 75,
   "metadata": {},
   "outputs": [
    {
     "data": {
      "text/html": [
       "<div>\n",
       "<style scoped>\n",
       "    .dataframe tbody tr th:only-of-type {\n",
       "        vertical-align: middle;\n",
       "    }\n",
       "\n",
       "    .dataframe tbody tr th {\n",
       "        vertical-align: top;\n",
       "    }\n",
       "\n",
       "    .dataframe thead th {\n",
       "        text-align: right;\n",
       "    }\n",
       "</style>\n",
       "<table border=\"1\" class=\"dataframe\">\n",
       "  <thead>\n",
       "    <tr style=\"text-align: right;\">\n",
       "      <th></th>\n",
       "      <th>Wind Speed</th>\n",
       "      <th>Wind Dir</th>\n",
       "    </tr>\n",
       "  </thead>\n",
       "  <tbody>\n",
       "    <tr>\n",
       "      <td>2016-01-01 00:00:00</td>\n",
       "      <td>NaN</td>\n",
       "      <td>NaN</td>\n",
       "    </tr>\n",
       "    <tr>\n",
       "      <td>2016-01-01 01:00:00</td>\n",
       "      <td>NaN</td>\n",
       "      <td>NaN</td>\n",
       "    </tr>\n",
       "    <tr>\n",
       "      <td>2016-01-01 02:00:00</td>\n",
       "      <td>NaN</td>\n",
       "      <td>NaN</td>\n",
       "    </tr>\n",
       "    <tr>\n",
       "      <td>2016-01-01 03:00:00</td>\n",
       "      <td>NaN</td>\n",
       "      <td>NaN</td>\n",
       "    </tr>\n",
       "    <tr>\n",
       "      <td>2016-01-01 04:00:00</td>\n",
       "      <td>NaN</td>\n",
       "      <td>NaN</td>\n",
       "    </tr>\n",
       "  </tbody>\n",
       "</table>\n",
       "</div>"
      ],
      "text/plain": [
       "                     Wind Speed  Wind Dir\n",
       "2016-01-01 00:00:00         NaN       NaN\n",
       "2016-01-01 01:00:00         NaN       NaN\n",
       "2016-01-01 02:00:00         NaN       NaN\n",
       "2016-01-01 03:00:00         NaN       NaN\n",
       "2016-01-01 04:00:00         NaN       NaN"
      ]
     },
     "execution_count": 75,
     "metadata": {},
     "output_type": "execute_result"
    }
   ],
   "source": [
    "#repeat for wind speed and direction\n",
    "speed_combo = speed[['Sample Measurement']]\n",
    "winddir_combo = winddir[['Sample Measurement']]\n",
    "merge2 = pd.merge(speed_combo, winddir_combo, left_index = True, right_index = True, how = 'outer')\n",
    "merge2.columns = ['Wind Speed', 'Wind Dir']\n",
    "merge2.head()"
   ]
  },
  {
   "cell_type": "code",
   "execution_count": 76,
   "metadata": {},
   "outputs": [
    {
     "data": {
      "text/html": [
       "<div>\n",
       "<style scoped>\n",
       "    .dataframe tbody tr th:only-of-type {\n",
       "        vertical-align: middle;\n",
       "    }\n",
       "\n",
       "    .dataframe tbody tr th {\n",
       "        vertical-align: top;\n",
       "    }\n",
       "\n",
       "    .dataframe thead th {\n",
       "        text-align: right;\n",
       "    }\n",
       "</style>\n",
       "<table border=\"1\" class=\"dataframe\">\n",
       "  <thead>\n",
       "    <tr style=\"text-align: right;\">\n",
       "      <th></th>\n",
       "      <th>Pressure</th>\n",
       "      <th>Humidity</th>\n",
       "    </tr>\n",
       "  </thead>\n",
       "  <tbody>\n",
       "    <tr>\n",
       "      <td>2016-01-01 00:00:00</td>\n",
       "      <td>1007.0</td>\n",
       "      <td>35.0</td>\n",
       "    </tr>\n",
       "    <tr>\n",
       "      <td>2016-01-01 01:00:00</td>\n",
       "      <td>1007.0</td>\n",
       "      <td>36.0</td>\n",
       "    </tr>\n",
       "    <tr>\n",
       "      <td>2016-01-01 02:00:00</td>\n",
       "      <td>1007.0</td>\n",
       "      <td>33.0</td>\n",
       "    </tr>\n",
       "    <tr>\n",
       "      <td>2016-01-01 03:00:00</td>\n",
       "      <td>1007.0</td>\n",
       "      <td>33.0</td>\n",
       "    </tr>\n",
       "    <tr>\n",
       "      <td>2016-01-01 04:00:00</td>\n",
       "      <td>1007.0</td>\n",
       "      <td>34.0</td>\n",
       "    </tr>\n",
       "  </tbody>\n",
       "</table>\n",
       "</div>"
      ],
      "text/plain": [
       "                     Pressure  Humidity\n",
       "2016-01-01 00:00:00    1007.0      35.0\n",
       "2016-01-01 01:00:00    1007.0      36.0\n",
       "2016-01-01 02:00:00    1007.0      33.0\n",
       "2016-01-01 03:00:00    1007.0      33.0\n",
       "2016-01-01 04:00:00    1007.0      34.0"
      ]
     },
     "execution_count": 76,
     "metadata": {},
     "output_type": "execute_result"
    }
   ],
   "source": [
    "#repeat for pressure and relative humidity\n",
    "press_combo = press[['Sample Measurement']]\n",
    "rh_combo = rh[['Sample Measurement']]\n",
    "merge3 = pd.merge(press_combo, rh_combo, left_index = True, right_index = True, how = 'outer')\n",
    "merge3.columns = ['Pressure', 'Humidity']\n",
    "merge3.head()"
   ]
  },
  {
   "cell_type": "code",
   "execution_count": 77,
   "metadata": {},
   "outputs": [
    {
     "data": {
      "text/html": [
       "<div>\n",
       "<style scoped>\n",
       "    .dataframe tbody tr th:only-of-type {\n",
       "        vertical-align: middle;\n",
       "    }\n",
       "\n",
       "    .dataframe tbody tr th {\n",
       "        vertical-align: top;\n",
       "    }\n",
       "\n",
       "    .dataframe thead th {\n",
       "        text-align: right;\n",
       "    }\n",
       "</style>\n",
       "<table border=\"1\" class=\"dataframe\">\n",
       "  <thead>\n",
       "    <tr style=\"text-align: right;\">\n",
       "      <th></th>\n",
       "      <th>Temp</th>\n",
       "      <th>Ozone</th>\n",
       "      <th>Pressure</th>\n",
       "      <th>Humidity</th>\n",
       "    </tr>\n",
       "  </thead>\n",
       "  <tbody>\n",
       "    <tr>\n",
       "      <td>2016-01-01 00:00:00</td>\n",
       "      <td>46.6</td>\n",
       "      <td>0.004</td>\n",
       "      <td>1007.0</td>\n",
       "      <td>35.0</td>\n",
       "    </tr>\n",
       "    <tr>\n",
       "      <td>2016-01-01 01:00:00</td>\n",
       "      <td>45.7</td>\n",
       "      <td>0.003</td>\n",
       "      <td>1007.0</td>\n",
       "      <td>36.0</td>\n",
       "    </tr>\n",
       "    <tr>\n",
       "      <td>2016-01-01 02:00:00</td>\n",
       "      <td>45.4</td>\n",
       "      <td>0.003</td>\n",
       "      <td>1007.0</td>\n",
       "      <td>33.0</td>\n",
       "    </tr>\n",
       "    <tr>\n",
       "      <td>2016-01-01 03:00:00</td>\n",
       "      <td>44.7</td>\n",
       "      <td>0.003</td>\n",
       "      <td>1007.0</td>\n",
       "      <td>33.0</td>\n",
       "    </tr>\n",
       "    <tr>\n",
       "      <td>2016-01-01 04:00:00</td>\n",
       "      <td>43.8</td>\n",
       "      <td>0.003</td>\n",
       "      <td>1007.0</td>\n",
       "      <td>34.0</td>\n",
       "    </tr>\n",
       "  </tbody>\n",
       "</table>\n",
       "</div>"
      ],
      "text/plain": [
       "                     Temp  Ozone  Pressure  Humidity\n",
       "2016-01-01 00:00:00  46.6  0.004    1007.0      35.0\n",
       "2016-01-01 01:00:00  45.7  0.003    1007.0      36.0\n",
       "2016-01-01 02:00:00  45.4  0.003    1007.0      33.0\n",
       "2016-01-01 03:00:00  44.7  0.003    1007.0      33.0\n",
       "2016-01-01 04:00:00  43.8  0.003    1007.0      34.0"
      ]
     },
     "execution_count": 77,
     "metadata": {},
     "output_type": "execute_result"
    }
   ],
   "source": [
    "#now combine the combined\n",
    "merge4 = pd.merge(merge1, merge3, left_index = True, right_index = True, how = 'outer')\n",
    "merge4.head()"
   ]
  },
  {
   "cell_type": "code",
   "execution_count": 78,
   "metadata": {},
   "outputs": [
    {
     "data": {
      "text/html": [
       "<div>\n",
       "<style scoped>\n",
       "    .dataframe tbody tr th:only-of-type {\n",
       "        vertical-align: middle;\n",
       "    }\n",
       "\n",
       "    .dataframe tbody tr th {\n",
       "        vertical-align: top;\n",
       "    }\n",
       "\n",
       "    .dataframe thead th {\n",
       "        text-align: right;\n",
       "    }\n",
       "</style>\n",
       "<table border=\"1\" class=\"dataframe\">\n",
       "  <thead>\n",
       "    <tr style=\"text-align: right;\">\n",
       "      <th></th>\n",
       "      <th>Temp</th>\n",
       "      <th>Ozone</th>\n",
       "      <th>Pressure</th>\n",
       "      <th>Humidity</th>\n",
       "      <th>Wind Speed</th>\n",
       "      <th>Wind Dir</th>\n",
       "    </tr>\n",
       "  </thead>\n",
       "  <tbody>\n",
       "    <tr>\n",
       "      <td>2016-01-01 00:00:00</td>\n",
       "      <td>46.6</td>\n",
       "      <td>0.004</td>\n",
       "      <td>1007.0</td>\n",
       "      <td>35.0</td>\n",
       "      <td>NaN</td>\n",
       "      <td>NaN</td>\n",
       "    </tr>\n",
       "    <tr>\n",
       "      <td>2016-01-01 01:00:00</td>\n",
       "      <td>45.7</td>\n",
       "      <td>0.003</td>\n",
       "      <td>1007.0</td>\n",
       "      <td>36.0</td>\n",
       "      <td>NaN</td>\n",
       "      <td>NaN</td>\n",
       "    </tr>\n",
       "    <tr>\n",
       "      <td>2016-01-01 02:00:00</td>\n",
       "      <td>45.4</td>\n",
       "      <td>0.003</td>\n",
       "      <td>1007.0</td>\n",
       "      <td>33.0</td>\n",
       "      <td>NaN</td>\n",
       "      <td>NaN</td>\n",
       "    </tr>\n",
       "    <tr>\n",
       "      <td>2016-01-01 03:00:00</td>\n",
       "      <td>44.7</td>\n",
       "      <td>0.003</td>\n",
       "      <td>1007.0</td>\n",
       "      <td>33.0</td>\n",
       "      <td>NaN</td>\n",
       "      <td>NaN</td>\n",
       "    </tr>\n",
       "    <tr>\n",
       "      <td>2016-01-01 04:00:00</td>\n",
       "      <td>43.8</td>\n",
       "      <td>0.003</td>\n",
       "      <td>1007.0</td>\n",
       "      <td>34.0</td>\n",
       "      <td>NaN</td>\n",
       "      <td>NaN</td>\n",
       "    </tr>\n",
       "  </tbody>\n",
       "</table>\n",
       "</div>"
      ],
      "text/plain": [
       "                     Temp  Ozone  Pressure  Humidity  Wind Speed  Wind Dir\n",
       "2016-01-01 00:00:00  46.6  0.004    1007.0      35.0         NaN       NaN\n",
       "2016-01-01 01:00:00  45.7  0.003    1007.0      36.0         NaN       NaN\n",
       "2016-01-01 02:00:00  45.4  0.003    1007.0      33.0         NaN       NaN\n",
       "2016-01-01 03:00:00  44.7  0.003    1007.0      33.0         NaN       NaN\n",
       "2016-01-01 04:00:00  43.8  0.003    1007.0      34.0         NaN       NaN"
      ]
     },
     "execution_count": 78,
     "metadata": {},
     "output_type": "execute_result"
    }
   ],
   "source": [
    "#combine the combined - wind data is missing for the beginning of 2016. \n",
    "#disappointing, but will just need to remove those columns eventually\n",
    "merge5 = pd.merge(merge4, merge2, left_index = True, right_index = True, how = 'inner')\n",
    "merge5.head()"
   ]
  },
  {
   "cell_type": "code",
   "execution_count": 40,
   "metadata": {},
   "outputs": [],
   "source": [
    "#finally all the data is merged together. Export to csv for further analysis\n",
    "merge5.to_csv('ozone_combined_cleaned.csv')"
   ]
  }
 ],
 "metadata": {
  "kernelspec": {
   "display_name": "Python [conda env:insight]",
   "language": "python",
   "name": "conda-env-insight-py"
  },
  "language_info": {
   "codemirror_mode": {
    "name": "ipython",
    "version": 3
   },
   "file_extension": ".py",
   "mimetype": "text/x-python",
   "name": "python",
   "nbconvert_exporter": "python",
   "pygments_lexer": "ipython3",
   "version": "3.7.4"
  }
 },
 "nbformat": 4,
 "nbformat_minor": 4
}
